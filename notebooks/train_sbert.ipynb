{
 "cells": [
  {
   "cell_type": "code",
   "id": "initial_id",
   "metadata": {
    "collapsed": true,
    "ExecuteTime": {
     "end_time": "2024-05-30T19:06:49.434183Z",
     "start_time": "2024-05-30T19:06:46.847450Z"
    }
   },
   "source": [
    "from sentence_transformers import (\n",
    "    SentenceTransformer,\n",
    "    SentenceTransformerTrainer,\n",
    "    SentenceTransformerTrainingArguments,\n",
    ")\n",
    "from sentence_transformers.losses import CosineSimilarityLoss\n",
    "from sentence_transformers.training_args import BatchSamplers\n",
    "from sentence_transformers.evaluation import EmbeddingSimilarityEvaluator, SimilarityFunction"
   ],
   "execution_count": 1,
   "outputs": []
  },
  {
   "metadata": {},
   "cell_type": "markdown",
   "source": "### 1. Load a model to finetune with 2. (Optional) model card data",
   "id": "afd0f0a4fc30eec0"
  },
  {
   "metadata": {
    "ExecuteTime": {
     "end_time": "2024-05-30T19:06:55.426668Z",
     "start_time": "2024-05-30T19:06:51.895941Z"
    }
   },
   "cell_type": "code",
   "source": [
    "model = SentenceTransformer(\n",
    "    \"BAAI/bge-m3\",\n",
    ")"
   ],
   "id": "5a55283c72d37f36",
   "execution_count": 2,
   "outputs": []
  },
  {
   "metadata": {},
   "cell_type": "markdown",
   "source": "### 2-3. Load a dataset to finetune on",
   "id": "f9ebcaa25c5b2dd2"
  },
  {
   "metadata": {
    "ExecuteTime": {
     "end_time": "2024-05-30T19:06:58.990674Z",
     "start_time": "2024-05-30T19:06:58.562324Z"
    }
   },
   "cell_type": "code",
   "source": [
    "from datasets import load_dataset\n",
    "\n",
    "dataset = load_dataset(\"csv\", data_files={\n",
    "    \"train\": \"dataset/train_dataset.csv\", \n",
    "    \"validation\": \"dataset/validation_dataset.csv\",\n",
    "    \"test\": \"dataset/test_dataset.csv\"\n",
    "})\n",
    "\n",
    "train_dataset = dataset[\"train\"]\n",
    "eval_dataset = dataset[\"validation\"]\n",
    "test_dataset = dataset[\"test\"]"
   ],
   "id": "7559fab4dfaecd20",
   "execution_count": 3,
   "outputs": []
  },
  {
   "metadata": {},
   "cell_type": "markdown",
   "source": "### 4. Define a loss function",
   "id": "25e48f5c5d23f611"
  },
  {
   "metadata": {
    "ExecuteTime": {
     "end_time": "2024-05-30T19:07:01.613623Z",
     "start_time": "2024-05-30T19:07:01.609900Z"
    }
   },
   "cell_type": "code",
   "source": "loss = CosineSimilarityLoss(model)",
   "id": "efcf32ab7c78b716",
   "execution_count": 4,
   "outputs": []
  },
  {
   "metadata": {},
   "cell_type": "markdown",
   "source": "### 5. Specify training arguments",
   "id": "98816662e3c6d740"
  },
  {
   "metadata": {
    "ExecuteTime": {
     "end_time": "2024-05-30T19:07:06.777863Z",
     "start_time": "2024-05-30T19:07:06.744580Z"
    }
   },
   "cell_type": "code",
   "source": [
    "args = SentenceTransformerTrainingArguments(\n",
    "    # Required parameter:\n",
    "    output_dir=\"models/bge-m3\",\n",
    "    # Optional training parameters:\n",
    "    num_train_epochs=20,\n",
    "    per_device_train_batch_size=4,\n",
    "    per_device_eval_batch_size=4,\n",
    "    warmup_ratio=0.1,\n",
    "    fp16=True,  # Set to False if you get an error that your GPU can't run on FP16\n",
    "    bf16=False,  # Set to True if you have a GPU that supports BF16\n",
    "    # batch_sampler=BatchSamplers.NO_DUPLICATES,  # MultipleNegativesRankingLoss benefits from no duplicate samples in a batch\n",
    "    # Optional tracking/debugging parameters:\n",
    "    eval_strategy=\"steps\",\n",
    "    eval_steps=100,\n",
    "    save_strategy=\"steps\",\n",
    "    save_steps=100,\n",
    "    save_total_limit=2,\n",
    "    logging_steps=100,\n",
    "    run_name=\"bge-m3-cosine\",  # Will be used in W&B if `wandb` is installed\n",
    ")"
   ],
   "id": "87dfc77e447cd176",
   "execution_count": 5,
   "outputs": []
  },
  {
   "metadata": {},
   "cell_type": "markdown",
   "source": "### 6. Create an evaluator & evaluate the base model",
   "id": "c7f5c6343dc273cf"
  },
  {
   "metadata": {
    "ExecuteTime": {
     "end_time": "2024-05-30T19:07:10.471857Z",
     "start_time": "2024-05-30T19:07:09.994473Z"
    }
   },
   "cell_type": "code",
   "source": [
    "dev_evaluator = EmbeddingSimilarityEvaluator(\n",
    "    sentences1=eval_dataset[\"question\"],\n",
    "    sentences2=eval_dataset[\"answer_data\"],\n",
    "    scores=eval_dataset[\"label\"],\n",
    "    main_similarity=SimilarityFunction.COSINE,\n",
    "    name=\"sts-dev\",\n",
    ")\n",
    "dev_evaluator(model)"
   ],
   "id": "18032b6c932f4e1d",
   "execution_count": 6,
   "outputs": []
  },
  {
   "metadata": {},
   "cell_type": "markdown",
   "source": "### 7. Create a trainer & train",
   "id": "53afdc75f9e083a0"
  },
  {
   "metadata": {
    "ExecuteTime": {
     "end_time": "2024-05-30T19:13:08.471521Z",
     "start_time": "2024-05-30T19:07:12.985824Z"
    }
   },
   "cell_type": "code",
   "source": [
    "trainer = SentenceTransformerTrainer(\n",
    "    model=model,\n",
    "    args=args,\n",
    "    train_dataset=train_dataset,\n",
    "    eval_dataset=eval_dataset,\n",
    "    loss=loss,\n",
    "    evaluator=dev_evaluator,\n",
    ")\n",
    "trainer.train()"
   ],
   "id": "d2b7cbd80000f4d8",
   "execution_count": 7,
   "outputs": []
  },
  {
   "metadata": {},
   "cell_type": "markdown",
   "source": "### 8. Evaluate the trained model on the test set",
   "id": "92292459bf493281"
  },
  {
   "metadata": {
    "ExecuteTime": {
     "end_time": "2024-05-30T19:13:52.937464Z",
     "start_time": "2024-05-30T19:13:52.626512Z"
    }
   },
   "cell_type": "code",
   "source": [
    "test_evaluator = EmbeddingSimilarityEvaluator(\n",
    "    sentences1=test_dataset[\"question\"],\n",
    "    sentences2=test_dataset[\"answer_data\"],\n",
    "    scores=test_dataset[\"label\"],\n",
    "    name=\"sts-test\",\n",
    ")\n",
    "test_evaluator(model)"
   ],
   "id": "ee9b448b173cf1f4",
   "execution_count": 8,
   "outputs": []
  },
  {
   "metadata": {},
   "cell_type": "markdown",
   "source": "### 9. Save the trained model",
   "id": "2810e3becb16c632"
  },
  {
   "metadata": {
    "ExecuteTime": {
     "end_time": "2024-05-30T19:14:00.542054Z",
     "start_time": "2024-05-30T19:13:55.066576Z"
    }
   },
   "cell_type": "code",
   "source": [
    "from datetime import datetime\n",
    "\n",
    "current_time = datetime.now().strftime(\"%d_%H-%M-%S\")\n",
    "\n",
    "model.save_pretrained(f\"./models/bge-m3_{current_time}\")"
   ],
   "id": "e9e8d7b2ef699f97",
   "execution_count": 9,
   "outputs": []
  }
 ],
 "metadata": {
  "kernelspec": {
   "display_name": "Python 3",
   "language": "python",
   "name": "python3"
  },
  "language_info": {
   "codemirror_mode": {
    "name": "ipython",
    "version": 2
   },
   "file_extension": ".py",
   "mimetype": "text/x-python",
   "name": "python",
   "nbconvert_exporter": "python",
   "pygments_lexer": "ipython2",
   "version": "2.7.6"
  }
 },
 "nbformat": 4,
 "nbformat_minor": 5
}
