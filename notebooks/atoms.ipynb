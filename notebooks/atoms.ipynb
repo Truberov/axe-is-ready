{
 "cells": [
  {
   "cell_type": "code",
   "id": "initial_id",
   "metadata": {
    "collapsed": true,
    "jupyter": {
     "is_executing": true
    }
   },
   "source": [
    "import operator\n",
    "\n",
    "import httpx\n",
    "from langchain_community.chat_models import ChatOllama\n",
    "from langchain_core.output_parsers import StrOutputParser\n",
    "from langchain_experimental.llms.ollama_functions import OllamaFunctions\n",
    "from langchain_core.prompts import ChatPromptTemplate\n",
    "from langchain_openai import ChatOpenAI"
   ],
   "outputs": [],
   "execution_count": null
  },
  {
   "metadata": {
    "ExecuteTime": {
     "end_time": "2024-05-30T11:05:54.393792Z",
     "start_time": "2024-05-30T11:05:50.338212Z"
    }
   },
   "cell_type": "code",
   "source": [
    "import getpass\n",
    "\n",
    "API_KEY = getpass.getpass()"
   ],
   "id": "ec59088a0c298900",
   "execution_count": 3,
   "outputs": []
  },
  {
   "metadata": {
    "ExecuteTime": {
     "end_time": "2024-05-30T11:05:55.787061Z",
     "start_time": "2024-05-30T11:05:55.784552Z"
    }
   },
   "cell_type": "code",
   "source": [
    "proxies = {\n",
    "            'http://': '',\n",
    "            'https://': '',\n",
    "        }"
   ],
   "id": "ba97e9825ef67649",
   "execution_count": 4,
   "outputs": []
  },
  {
   "metadata": {
    "ExecuteTime": {
     "end_time": "2024-05-30T11:05:57.777859Z",
     "start_time": "2024-05-30T11:05:57.585289Z"
    }
   },
   "cell_type": "code",
   "source": "openai_llm = ChatOpenAI(api_key=API_KEY, model='gpt-3.5-turbo', http_client=httpx.Client(proxies=proxies))",
   "id": "9d7211234c3389b2",
   "execution_count": 5,
   "outputs": []
  },
  {
   "metadata": {},
   "cell_type": "code",
   "source": "local_llm = ChatOllama(model='aya:35b-23-q2_K', base_url='http://localhost:11434', streaming=True)",
   "id": "cf0f1684b8a1d85f",
   "execution_count": null,
   "outputs": []
  },
  {
   "metadata": {
    "ExecuteTime": {
     "end_time": "2024-05-30T10:14:44.688155Z",
     "start_time": "2024-05-30T10:14:44.684150Z"
    }
   },
   "cell_type": "code",
   "source": [
    "_atoms_generation_system = \"\"\"Задача: На основе приведенного текста сгенерируйте список атомарных утверждений, которые отражают ключевые идеи и факты из текста. Каждое утверждение должно быть простым, недвусмысленным и выражать только одну мысль.\n",
    "\n",
    "Формат ответа:\n",
    "- \n",
    "- \n",
    "- \n",
    "...\n",
    "\n",
    "Постарайтесь выделить 5-10 ключевых атомарных утверждений из текста. Если текст короткий и простой, меньшего количества может быть достаточно. Для длинных и сложных текстов может потребоваться больше утверждений. Ваша цель - четко и лаконично передать суть исходного текста.\"\"\""
   ],
   "id": "c0eddabbae24c447",
   "execution_count": 6,
   "outputs": []
  },
  {
   "metadata": {
    "ExecuteTime": {
     "end_time": "2024-05-30T10:14:46.442238Z",
     "start_time": "2024-05-30T10:14:46.437931Z"
    }
   },
   "cell_type": "code",
   "source": [
    "atoms_prompt = ChatPromptTemplate.from_messages(\n",
    "    [\n",
    "        (\"system\", _atoms_generation_system),\n",
    "        (\"human\", \"{fragment}\"),\n",
    "    ]\n",
    ")"
   ],
   "id": "26e78ba1c6240b3b",
   "execution_count": 7,
   "outputs": []
  },
  {
   "metadata": {
    "ExecuteTime": {
     "end_time": "2024-05-30T10:14:48.464323Z",
     "start_time": "2024-05-30T10:14:48.460626Z"
    }
   },
   "cell_type": "code",
   "source": "atoms_chain = atoms_prompt | openai_llm | StrOutputParser()",
   "id": "f652c7dc07c4939",
   "execution_count": 8,
   "outputs": []
  },
  {
   "metadata": {
    "ExecuteTime": {
     "end_time": "2024-05-30T10:14:56.033938Z",
     "start_time": "2024-05-30T10:14:50.420745Z"
    }
   },
   "cell_type": "code",
   "source": [
    "result = atoms_chain.invoke({\"fragment\": \"\"\"Диплом о профессиональной переподготовке\n",
    "Документ подтверждает, что слушатель успешно окончил программу профессиональной переподготовки и получил право на ведение профессиональной деятельности. Диплом о профессиональной переподготовке является документом о квалификации и вносится в Федеральный реестр документов об образовании.\n",
    "\n",
    "Диплом выдаём только на русском языке, в печатном виде.\n",
    "\n",
    "Можем его выдать, если вы:\n",
    "\n",
    "оплатили обучение после 3 декабря 2019 года;\n",
    "укладываетесь в сроки, на которые рассчитана программа, и 6 месяцев сверху. Срок отсчитывается с даты оплаты обучения;\n",
    "имеете среднее или высшее профессиональное образование — подойдут диплом СПО или ВО. Если вы ещё не закончили СУЗ или ВУЗ, подойдёт справка из образовательного учреждения;\n",
    "при зачислении предоставили пакет документов — паспорт, диплом, СНИЛС, сведения о смене ФИО (при наличии), сведения о признании иностранного диплома (при наличии);\n",
    "сдали все промежуточные аттестации до даты итоговой аттестации;\n",
    "успешно сдали итоговую аттестацию.\n",
    "Итоговой аттестацией может быть:\n",
    "\n",
    "итоговый экзамен;\n",
    "защита проекта;\n",
    "другие формы итоговой аттестационной работы.\n",
    "Мы подготовим диплом в течение 30 дней от даты итоговой аттестации. Чтобы его получить, обратитесь к куратору.\"\"\"})"
   ],
   "id": "476c80a5ff1584d8",
   "execution_count": 9,
   "outputs": []
  },
  {
   "metadata": {},
   "cell_type": "code",
   "source": [
    "with open('result.txt', 'w') as f:\n",
    "    f.write(result)"
   ],
   "id": "9f2a5abf516c6390",
   "execution_count": null,
   "outputs": []
  },
  {
   "metadata": {
    "ExecuteTime": {
     "end_time": "2024-05-30T11:06:02.011049Z",
     "start_time": "2024-05-30T11:06:02.007493Z"
    }
   },
   "cell_type": "code",
   "source": [
    "_questions_generation_system = \"\"\"Задача: Сгенерируйте 5-10 вопросов, ответом на которые  будет приведенное утверждение. Вопросы должн быть сформулированы так, чтобы утверждение было ответом на них.\n",
    "\n",
    "Формат ответа:\n",
    "- \n",
    "- \n",
    "- \n",
    "\n",
    "Постарайтесь написать 5-10 вопрсосов на основе текста. Если текст короткий и простой, меньшего количества может быть достаточно. Для длинных и сложных текстов может потребоваться больше вопросов. В ответ напиши только вопросы и ничего более.\"\"\""
   ],
   "id": "69357a6812966ad0",
   "execution_count": 6,
   "outputs": []
  },
  {
   "metadata": {
    "ExecuteTime": {
     "end_time": "2024-05-30T11:06:03.695180Z",
     "start_time": "2024-05-30T11:06:03.691452Z"
    }
   },
   "cell_type": "code",
   "source": [
    "questions_prompt = ChatPromptTemplate.from_messages(\n",
    "    [\n",
    "        (\"system\", _questions_generation_system),\n",
    "        (\"human\", \"{atom}\"),\n",
    "    ]\n",
    ")"
   ],
   "id": "c771d966229fcba1",
   "execution_count": 7,
   "outputs": []
  },
  {
   "metadata": {
    "ExecuteTime": {
     "end_time": "2024-05-30T11:06:05.502666Z",
     "start_time": "2024-05-30T11:06:05.499312Z"
    }
   },
   "cell_type": "code",
   "source": "questions_chain = questions_prompt | openai_llm | StrOutputParser()",
   "id": "f35b71ae43de8d6a",
   "execution_count": 8,
   "outputs": []
  },
  {
   "metadata": {
    "ExecuteTime": {
     "end_time": "2024-05-30T06:11:40.322144Z",
     "start_time": "2024-05-30T06:11:37.102435Z"
    }
   },
   "cell_type": "code",
   "source": "questions_chain.invoke({\"atom\": \"\"\"Диплом будет подготовлен в течение 30 дней после успешной прохождения итоговой аттестации.\"\"\"})",
   "id": "949218010e936251",
   "execution_count": 36,
   "outputs": []
  },
  {
   "metadata": {
    "ExecuteTime": {
     "end_time": "2024-05-30T11:06:15.474972Z",
     "start_time": "2024-05-30T11:06:15.471605Z"
    }
   },
   "cell_type": "code",
   "source": "from langchain_core.pydantic_v1 import BaseModel, Field",
   "id": "f90a0e940b245ac",
   "execution_count": 11,
   "outputs": []
  },
  {
   "metadata": {
    "ExecuteTime": {
     "end_time": "2024-05-30T11:09:39.765842Z",
     "start_time": "2024-05-30T11:09:39.762198Z"
    }
   },
   "cell_type": "code",
   "source": [
    "def format_docs(_docs):\n",
    "    formated_docs = [f\"text_id: {_doc.metadata.get('answer_class')}\\ncontent:\\n{_doc.page_content}\" for _doc in _docs]\n",
    "    print(formated_docs)\n",
    "    return \"\\n\\n\".join(formated_docs[:5])"
   ],
   "id": "e5f1227919ee9057",
   "execution_count": 33,
   "outputs": []
  },
  {
   "metadata": {
    "ExecuteTime": {
     "end_time": "2024-05-30T11:07:03.340419Z",
     "start_time": "2024-05-30T11:07:03.337996Z"
    }
   },
   "cell_type": "code",
   "source": [
    "def remove_numbers(_text):\n",
    "    lines = _text.split('\\n')\n",
    "    _result = [line.strip()[2:] for line in lines]\n",
    "        \n",
    "    return _result"
   ],
   "id": "e58f1c35dcd2bea4",
   "execution_count": 18,
   "outputs": []
  },
  {
   "metadata": {
    "ExecuteTime": {
     "end_time": "2024-05-30T11:07:05.001011Z",
     "start_time": "2024-05-30T11:07:04.998189Z"
    }
   },
   "cell_type": "code",
   "source": "from langchain_core.documents import Document",
   "id": "efc5021443c2f0e2",
   "execution_count": 19,
   "outputs": []
  },
  {
   "metadata": {
    "ExecuteTime": {
     "end_time": "2024-05-30T11:07:07.560882Z",
     "start_time": "2024-05-30T11:07:07.556258Z"
    }
   },
   "cell_type": "code",
   "source": [
    "def get_sub_docs_only_questions(_doc):\n",
    "    base_content = _doc.page_content\n",
    "    # row_atoms = atoms_chain.invoke({\"fragment\": base_content})\n",
    "    # list_atoms = remove_numbers(row_atoms)\n",
    "    row_questions = questions_chain.invoke({\"atom\": base_content})\n",
    "    list_questions = remove_numbers(row_questions)\n",
    "    new_docs = [Document(page_content=question, metadata=_doc.metadata) for question in list_questions]\n",
    "    # docs_to_return = [] \n",
    "    # \n",
    "    # for atom in list_atoms:\n",
    "    #     row_questions = questions_chain.invoke({\"atom\": atom})\n",
    "    #     list_questions = remove_numbers(row_questions)\n",
    "    #     new_docs = [Document(page_content=question, metadata=_doc.metadata) for question in list_questions]\n",
    "    #     \n",
    "    #     docs_to_return.extend(new_docs)\n",
    "        \n",
    "    return new_docs"
   ],
   "id": "1a31bcdff1b0fd30",
   "execution_count": 21,
   "outputs": []
  },
  {
   "metadata": {
    "ExecuteTime": {
     "end_time": "2024-05-30T10:16:15.823291Z",
     "start_time": "2024-05-30T10:16:15.818445Z"
    }
   },
   "cell_type": "code",
   "source": [
    "def get_sub_docs_full_chain(_doc):\n",
    "    base_content = _doc.page_content\n",
    "    row_atoms = atoms_chain.invoke({\"fragment\": base_content})\n",
    "    list_atoms = remove_numbers(row_atoms)\n",
    "    docs_to_return = [] \n",
    "    \n",
    "    for atom in list_atoms:\n",
    "        row_questions = questions_chain.invoke({\"atom\": atom})\n",
    "        list_questions = remove_numbers(row_questions)\n",
    "        new_docs = [Document(page_content=question, metadata=_doc.metadata) for question in list_questions]\n",
    "        \n",
    "        docs_to_return.extend(new_docs)\n",
    "        \n",
    "    return docs_to_return"
   ],
   "id": "ba570f729b5504ac",
   "execution_count": 16,
   "outputs": []
  },
  {
   "metadata": {},
   "cell_type": "code",
   "source": [
    "get_sub_docs_full_chain(Document(page_content=\"\"\"Диплом о профессиональной переподготовке\n",
    "Документ подтверждает, что слушатель успешно окончил программу профессиональной переподготовки и получил право на ведение профессиональной деятельности. Диплом о профессиональной переподготовке является документом о квалификации и вносится в Федеральный реестр документов об образовании.\n",
    "\n",
    "Диплом выдаём только на русском языке, в печатном виде.\n",
    "\n",
    "Можем его выдать, если вы:\n",
    "\n",
    "оплатили обучение после 3 декабря 2019 года;\n",
    "укладываетесь в сроки, на которые рассчитана программа, и 6 месяцев сверху. Срок отсчитывается с даты оплаты обучения;\n",
    "имеете среднее или высшее профессиональное образование — подойдут диплом СПО или ВО. Если вы ещё не закончили СУЗ или ВУЗ, подойдёт справка из образовательного учреждения;\n",
    "при зачислении предоставили пакет документов — паспорт, диплом, СНИЛС, сведения о смене ФИО (при наличии), сведения о признании иностранного диплома (при наличии);\n",
    "сдали все промежуточные аттестации до даты итоговой аттестации;\n",
    "успешно сдали итоговую аттестацию.\n",
    "Итоговой аттестацией может быть:\n",
    "\n",
    "итоговый экзамен;\n",
    "защита проекта;\n",
    "другие формы итоговой аттестационной работы.\n",
    "Мы подготовим диплом в течение 30 дней от даты итоговой аттестации. Чтобы его получить, обратитесь к куратору.\"\"\", metadata={}))"
   ],
   "id": "30773a9ec0b22366",
   "execution_count": null,
   "outputs": []
  },
  {
   "metadata": {
    "ExecuteTime": {
     "end_time": "2024-05-30T11:07:11.754890Z",
     "start_time": "2024-05-30T11:07:11.613021Z"
    }
   },
   "cell_type": "code",
   "source": [
    "from langchain.retrievers.multi_vector import MultiVectorRetriever\n",
    "from langchain.storage import InMemoryByteStore\n",
    "from langchain_community.document_loaders.csv_loader import CSVLoader\n",
    "from langchain.vectorstores import Chroma"
   ],
   "id": "5224b57c065a9fc7",
   "execution_count": 22,
   "outputs": []
  },
  {
   "metadata": {
    "ExecuteTime": {
     "end_time": "2024-05-30T11:07:28.654848Z",
     "start_time": "2024-05-30T11:07:28.650718Z"
    }
   },
   "cell_type": "code",
   "source": [
    "loader = CSVLoader(\n",
    "    file_path='./answer_class.csv',\n",
    "    csv_args={\n",
    "        'delimiter': ',',\n",
    "        'quotechar': '\"',\n",
    "    },\n",
    "    metadata_columns=['answer_class']\n",
    ")\n",
    "\n",
    "docs = loader.load()\n",
    "\n",
    "for doc in docs:\n",
    "    doc.page_content = doc.page_content.replace('answer: ', '')"
   ],
   "id": "824d89fb5ad508d2",
   "execution_count": 26,
   "outputs": []
  },
  {
   "metadata": {},
   "cell_type": "code",
   "source": [
    "from langchain_community.embeddings import SentenceTransformerEmbeddings\n",
    "\n",
    "embedding_function = SentenceTransformerEmbeddings(model_name=\"intfloat/multilingual-e5-large\")"
   ],
   "id": "14d8c5f459ccd3f9",
   "execution_count": 27,
   "outputs": []
  },
  {
   "metadata": {
    "ExecuteTime": {
     "end_time": "2024-05-30T11:07:39.470419Z",
     "start_time": "2024-05-30T11:07:38.723300Z"
    }
   },
   "cell_type": "code",
   "source": [
    "# The vectorstore to use to index the child chunks\n",
    "vectorstore = Chroma(\n",
    "    collection_name=\"full_documents\", embedding_function=embedding_function\n",
    ")\n",
    "# The storage layer for the parent documents\n",
    "store = InMemoryByteStore()\n",
    "id_key = \"doc_id\"\n",
    "# The retriever (empty to start)\n",
    "retriever = MultiVectorRetriever(\n",
    "    vectorstore=vectorstore,\n",
    "    byte_store=store,\n",
    "    id_key=id_key,\n",
    ")\n",
    "import uuid\n",
    "\n",
    "doc_ids = [str(uuid.uuid4()) for _ in docs]"
   ],
   "id": "b5ab94eed8555e39",
   "execution_count": 28,
   "outputs": []
  },
  {
   "metadata": {
    "ExecuteTime": {
     "end_time": "2024-05-30T11:09:06.926193Z",
     "start_time": "2024-05-30T11:07:42.654171Z"
    }
   },
   "cell_type": "code",
   "source": [
    "sub_docs = []\n",
    "for i, doc in enumerate(docs):\n",
    "    print(i)\n",
    "    _id = doc_ids[i]\n",
    "    _sub_docs = get_sub_docs_only_questions(doc)\n",
    "    for _doc in _sub_docs:\n",
    "        _doc.metadata[id_key] = _id\n",
    "    sub_docs.extend(_sub_docs)"
   ],
   "id": "1a162d91ff5c6ce9",
   "execution_count": 29,
   "outputs": []
  },
  {
   "metadata": {
    "ExecuteTime": {
     "end_time": "2024-05-30T11:09:10.707221Z",
     "start_time": "2024-05-30T11:09:09.921788Z"
    }
   },
   "cell_type": "code",
   "source": [
    "retriever.vectorstore.add_documents(sub_docs)\n",
    "retriever.docstore.mset(list(zip(doc_ids, docs)))"
   ],
   "id": "c1be93e6b2ed9c8f",
   "execution_count": 30,
   "outputs": []
  },
  {
   "metadata": {
    "ExecuteTime": {
     "end_time": "2024-05-30T06:18:12.559655Z",
     "start_time": "2024-05-30T06:18:12.508431Z"
    }
   },
   "cell_type": "code",
   "source": "retriever.vectorstore.similarity_search(\"\", k=100)",
   "id": "f77af13ed908ca3d",
   "execution_count": 54,
   "outputs": []
  },
  {
   "metadata": {
    "ExecuteTime": {
     "end_time": "2024-05-30T11:09:13.708264Z",
     "start_time": "2024-05-30T11:09:13.705156Z"
    }
   },
   "cell_type": "code",
   "source": "retriever.search_kwargs = {\"k\": 15}",
   "id": "1e537f6d62c1c91e",
   "execution_count": 31,
   "outputs": []
  },
  {
   "metadata": {
    "ExecuteTime": {
     "end_time": "2024-05-30T11:09:16.011670Z",
     "start_time": "2024-05-30T11:09:15.717486Z"
    }
   },
   "cell_type": "code",
   "source": "import pandas as pd",
   "id": "60e79279bd468917",
   "execution_count": 32,
   "outputs": []
  },
  {
   "metadata": {
    "ExecuteTime": {
     "end_time": "2024-05-30T10:58:59.156512Z",
     "start_time": "2024-05-30T10:58:59.152870Z"
    }
   },
   "cell_type": "code",
   "source": [
    "import operator\n",
    "\n",
    "def predict_answer(question):\n",
    "    _predicted_answer = retriever.vectorstore.similarity_search(question, k=15)[0].metadata.get('answer_class')\n",
    "    return int(_predicted_answer)"
   ],
   "id": "51d10479c71a9a47",
   "execution_count": 26,
   "outputs": []
  },
  {
   "metadata": {
    "ExecuteTime": {
     "end_time": "2024-05-30T10:59:14.256648Z",
     "start_time": "2024-05-30T10:59:14.252450Z"
    }
   },
   "cell_type": "code",
   "source": [
    "def predict_answers(question):\n",
    "    _predicted_answers = retriever.vectorstore.similarity_search(question, k=5)\n",
    "    \n",
    "    return [int(ans.metadata.get('answer_class')) for ans in _predicted_answers]"
   ],
   "id": "d12ca4873b9221f8",
   "execution_count": 28,
   "outputs": []
  },
  {
   "metadata": {
    "ExecuteTime": {
     "end_time": "2024-05-30T11:10:45.047867Z",
     "start_time": "2024-05-30T11:09:58.402176Z"
    }
   },
   "cell_type": "code",
   "source": [
    "# Читаем CSV файл в DataFrame\n",
    "df = pd.read_csv('test_data.csv')\n",
    "\n",
    "df['answer_class'] = df['answer_class'].apply(int)\n",
    "# Применяем функцию predict_answer к каждому вопросу и сохраняем результаты в новый столбец\n",
    "df['predicted_answer'] = df['question'].apply(predict_answer_with_llm)\n",
    "\n",
    "# Считаем процент совпадений предсказанных ответов с правильными ответами\n",
    "accuracy = (df['predicted_answer'] == df['answer_class']).mean() * 100\n",
    "\n",
    "# Сохраняем результаты обратно в CSV файл\n",
    "df.to_csv('data_with_predictions.csv', index=False)\n",
    "\n",
    "print(f\"Accuracy: {accuracy:.2f}%\")"
   ],
   "id": "9f0e347288de4e5b",
   "execution_count": 35,
   "outputs": []
  },
  {
   "metadata": {
    "ExecuteTime": {
     "end_time": "2024-05-30T10:59:18.304620Z",
     "start_time": "2024-05-30T10:59:17.079576Z"
    }
   },
   "cell_type": "code",
   "source": [
    "df = pd.read_csv('test_data.csv')\n",
    "\n",
    "correct_in_top5 = 0\n",
    "correct_present = 0\n",
    "total_tests = len(df)\n",
    "\n",
    "for _, row in df.iterrows():\n",
    "    question = row['question']\n",
    "    \n",
    "    predicted_answers = predict_answers(question)\n",
    "    answer = row['answer_class']\n",
    "    \n",
    "    if answer in predicted_answers:\n",
    "        correct_present += 1\n",
    "        \n",
    "        if answer in predicted_answers[:5]:\n",
    "            correct_in_top5 += 1\n",
    "    \n",
    "\n",
    "top5_percentage = correct_in_top5 / total_tests * 100\n",
    "present_percentage = correct_present / total_tests * 100\n",
    "\n",
    "print(f\"Верный ответ присутствует в топ-10 в {present_percentage:.2f}% тестов\")\n",
    "print(f\"Верный ответ в топ-5 в {top5_percentage:.2f}% тестов\")"
   ],
   "id": "629b4ddd1be14afb",
   "execution_count": 29,
   "outputs": []
  }
 ],
 "metadata": {
  "kernelspec": {
   "display_name": "Python 3",
   "language": "python",
   "name": "python3"
  },
  "language_info": {
   "codemirror_mode": {
    "name": "ipython",
    "version": 2
   },
   "file_extension": ".py",
   "mimetype": "text/x-python",
   "name": "python",
   "nbconvert_exporter": "python",
   "pygments_lexer": "ipython2",
   "version": "2.7.6"
  }
 },
 "nbformat": 4,
 "nbformat_minor": 5
}
