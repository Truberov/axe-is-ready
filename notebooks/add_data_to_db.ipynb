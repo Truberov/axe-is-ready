{
 "cells": [
  {
   "metadata": {
    "ExecuteTime": {
     "end_time": "2024-05-31T17:28:58.468053Z",
     "start_time": "2024-05-31T17:28:57.807079Z"
    }
   },
   "cell_type": "code",
   "source": [
    "import httpx\n",
    "\n",
    "from langchain_community.vectorstores import Chroma\n",
    "from langchain_community.embeddings import SentenceTransformerEmbeddings\n",
    "from langchain.text_splitter import RecursiveCharacterTextSplitter\n",
    "from langchain.retrievers.multi_vector import MultiVectorRetriever\n",
    "from langchain.storage import InMemoryByteStore\n",
    "from langchain_openai import ChatOpenAI"
   ],
   "id": "initial_id",
   "execution_count": 1,
   "outputs": []
  },
  {
   "metadata": {
    "ExecuteTime": {
     "end_time": "2024-05-31T17:29:05.340250Z",
     "start_time": "2024-05-31T17:28:59.176826Z"
    }
   },
   "cell_type": "code",
   "source": "embedding_function = SentenceTransformerEmbeddings(model_name=\"BAAI/bge-m3\")",
   "id": "772164f9763a18f5",
   "execution_count": 2,
   "outputs": []
  },
  {
   "metadata": {
    "ExecuteTime": {
     "end_time": "2024-05-31T17:29:08.129333Z",
     "start_time": "2024-05-31T17:29:08.125934Z"
    }
   },
   "cell_type": "code",
   "source": [
    "import getpass\n",
    "\n",
    "API_KEY = getpass.getpass(prompt=\"API Key: \")"
   ],
   "id": "e6bbe5021ec26e46",
   "execution_count": 4,
   "outputs": []
  },
  {
   "metadata": {
    "ExecuteTime": {
     "end_time": "2024-05-31T16:20:10.150321Z",
     "start_time": "2024-05-31T16:20:10.146796Z"
    }
   },
   "cell_type": "code",
   "source": [
    "proxies = {\n",
    "    'http://': f'',\n",
    "    'https://': f''\n",
    "}"
   ],
   "id": "35693d5d1723e672",
   "execution_count": 5,
   "outputs": []
  },
  {
   "metadata": {
    "ExecuteTime": {
     "end_time": "2024-05-31T16:40:47.467667Z",
     "start_time": "2024-05-31T16:40:47.275661Z"
    }
   },
   "cell_type": "code",
   "source": "llm = ChatOpenAI(api_key=API_KEY, model='gpt-4o', http_client=httpx.Client(proxies=proxies))",
   "id": "107d549d6c3ffcba",
   "execution_count": 48,
   "outputs": []
  },
  {
   "metadata": {
    "ExecuteTime": {
     "end_time": "2024-05-31T17:29:24.152253Z",
     "start_time": "2024-05-31T17:29:10.021919Z"
    }
   },
   "cell_type": "code",
   "source": [
    "from langchain_community.document_loaders import JSONLoader\n",
    "\n",
    "\n",
    "def metadata_func(record: dict, metadata: dict) -> dict:\n",
    "    metadata[\"url\"] = record.get(\"url\")\n",
    "    metadata[\"title\"] = record.get(\"title\")\n",
    "\n",
    "    return metadata\n",
    "\n",
    "\n",
    "loader = JSONLoader(\n",
    "    file_path='./dataset_unique_epta.json',\n",
    "    jq_schema='.data[]',\n",
    "    text_content=False,\n",
    "    content_key='description',\n",
    "    metadata_func=metadata_func,\n",
    ")\n",
    "\n",
    "docs = loader.load()\n",
    "\n",
    "text_splitter = RecursiveCharacterTextSplitter.from_tiktoken_encoder(\n",
    "    chunk_size=500, chunk_overlap=0\n",
    ")\n",
    "doc_splits = text_splitter.split_documents(docs)\n",
    "\n",
    "\n"
   ],
   "id": "9af06a252e77dc89",
   "execution_count": 5,
   "outputs": []
  },
  {
   "metadata": {
    "ExecuteTime": {
     "end_time": "2024-05-31T17:30:06.830191Z",
     "start_time": "2024-05-31T17:29:36.572395Z"
    }
   },
   "cell_type": "code",
   "source": "vectorstore = Chroma.from_documents(doc_splits, embedding=embedding_function, persist_directory='./chroma_db_test', collection_name='bge-test')",
   "id": "4e33f5f390fe33f9",
   "execution_count": 7,
   "outputs": []
  },
  {
   "metadata": {
    "ExecuteTime": {
     "end_time": "2024-05-31T16:40:51.313911Z",
     "start_time": "2024-05-31T16:40:51.309838Z"
    }
   },
   "cell_type": "code",
   "source": [
    "functions = [\n",
    "    {\n",
    "        \"name\": \"atomic_topics\",\n",
    "        \"description\": \"Write atomic topics\",\n",
    "        \"parameters\": {\n",
    "            \"type\": \"object\",\n",
    "            \"properties\": {\n",
    "                \"atomic_topics\": {\n",
    "                    \"type\": \"array\",\n",
    "                    \"items\": {\"type\": \"string\"},\n",
    "                },\n",
    "            },\n",
    "            \"required\": [\"atomic_topics\"],\n",
    "        },\n",
    "    },\n",
    "    {\n",
    "        \"name\": \"hypothetical_questions\",\n",
    "        \"description\": \"Generate hypothetical questions\",\n",
    "        \"parameters\": {\n",
    "            \"type\": \"object\",\n",
    "            \"properties\": {\n",
    "                \"questions\": {\n",
    "                    \"type\": \"array\",\n",
    "                    \"items\": {\"type\": \"string\"},\n",
    "                },\n",
    "            },\n",
    "            \"required\": [\"questions\"],\n",
    "        },\n",
    "    }\n",
    "]"
   ],
   "id": "aa271bda7da081d2",
   "execution_count": 50,
   "outputs": []
  },
  {
   "metadata": {
    "ExecuteTime": {
     "end_time": "2024-05-31T16:40:52.934731Z",
     "start_time": "2024-05-31T16:40:52.930945Z"
    }
   },
   "cell_type": "code",
   "source": [
    "import uuid\n",
    "\n",
    "from langchain_core.documents import Document\n",
    "from langchain_core.output_parsers import StrOutputParser\n",
    "from langchain_core.prompts import ChatPromptTemplate\n",
    "from langchain_openai import ChatOpenAI\n",
    "from langchain.output_parsers.openai_functions import JsonKeyOutputFunctionsParser\n",
    "from langchain_core.runnables import RunnablePassthrough, RunnableLambda"
   ],
   "id": "14264bc03df425ca",
   "execution_count": 51,
   "outputs": []
  },
  {
   "metadata": {
    "ExecuteTime": {
     "end_time": "2024-05-31T16:40:54.336722Z",
     "start_time": "2024-05-31T16:40:54.333375Z"
    }
   },
   "cell_type": "code",
   "source": [
    "q_template = \"\"\"Представь, что занимаешься бизнессом или хочешь начать заниматься им. \n",
    "Сгенерируй 10-20 вопросов, которые ты гипотетически мог задать, если бы не знал приведенный ниже текст:\\n\\n{doc}\n",
    "Если текст большой вопросов может быть больше, если текст поменьше вопросов может быть и меньше.\"\"\""
   ],
   "id": "5d27cd6b0ecba154",
   "execution_count": 52,
   "outputs": []
  },
  {
   "metadata": {
    "ExecuteTime": {
     "end_time": "2024-05-31T16:40:55.625709Z",
     "start_time": "2024-05-31T16:40:55.621542Z"
    }
   },
   "cell_type": "code",
   "source": [
    "q_chain = (\n",
    "        RunnablePassthrough()\n",
    "        | ChatPromptTemplate.from_template(q_template)\n",
    "        | llm.bind(\n",
    "    functions=functions, function_call={\"name\": \"hypothetical_questions\"}\n",
    ")\n",
    "        | JsonKeyOutputFunctionsParser(key_name=\"questions\")\n",
    ")"
   ],
   "id": "48dfaeb9eb1004cc",
   "execution_count": 53,
   "outputs": []
  },
  {
   "metadata": {
    "ExecuteTime": {
     "end_time": "2024-05-31T16:40:56.898213Z",
     "start_time": "2024-05-31T16:40:56.894489Z"
    }
   },
   "cell_type": "code",
   "source": [
    "atom_template = \"\"\"Цель: Разделить длинную статью на несколько частеей отдельным темам для удобства чтения и возможности более детального анализа каждой статьи.\n",
    "\n",
    "Инструкция:\n",
    "\n",
    "1) Проанализируй статью: Прочитайте всю статью, чтобы получить общее представление о содержании и структуре.\n",
    "2) Извелеки и реорганизуй текст: Извлеките текст, относящийся к каждой теме, и организуйте его в отдельные статьи.\n",
    "\\n\\n{doc}\"\"\""
   ],
   "id": "7e05970f7fbdf742",
   "execution_count": 54,
   "outputs": []
  },
  {
   "metadata": {
    "ExecuteTime": {
     "end_time": "2024-05-31T16:40:58.096061Z",
     "start_time": "2024-05-31T16:40:58.091519Z"
    }
   },
   "cell_type": "code",
   "source": [
    "atom_chain = (\n",
    "        RunnablePassthrough()\n",
    "        | ChatPromptTemplate.from_template(atom_template)\n",
    "        | llm.bind(\n",
    "    functions=functions, function_call={\"name\": \"atomic_topics\"}\n",
    ")\n",
    "        | JsonKeyOutputFunctionsParser(key_name=\"atomic_topics\")\n",
    ")"
   ],
   "id": "6c7e5cc086e7c566",
   "execution_count": 55,
   "outputs": []
  },
  {
   "metadata": {
    "ExecuteTime": {
     "end_time": "2024-05-31T16:40:59.323460Z",
     "start_time": "2024-05-31T16:40:59.319782Z"
    }
   },
   "cell_type": "code",
   "source": [
    "TOKEN_LIMIT = 1000\n",
    "\n",
    "def calculate_tokens_num(_text: str) -> int:\n",
    "    return int(len(_text) / 2)"
   ],
   "id": "571b977581e4c23e",
   "execution_count": 56,
   "outputs": []
  },
  {
   "metadata": {
    "ExecuteTime": {
     "end_time": "2024-05-31T16:41:00.531674Z",
     "start_time": "2024-05-31T16:41:00.527208Z"
    }
   },
   "cell_type": "code",
   "source": [
    "def get_sub_docs(_doc):\n",
    "    # total_questions = []\n",
    "    content = f\"Заголовок статьи: {_doc.metadata.get('title')}\\nКонтент:\\n{_doc.page_content}\"\n",
    "    total_questions = q_chain.invoke(content)\n",
    "    # if calculate_tokens_num(content) > TOKEN_LIMIT:\n",
    "    #     atoms = atom_chain.invoke(content)\n",
    "    #     questions = q_chain.batch(atoms, {\"max_concurrency\": 5})\n",
    "    #     for q_list in questions:\n",
    "    #         total_questions.extend(q_list)\n",
    "    # else:\n",
    "    #     total_questions = q_chain.invoke(content)\n",
    "        \n",
    "    return [Document(page_content=_q, metadata=_doc.metadata) for _q in total_questions]"
   ],
   "id": "4716e696759205be",
   "execution_count": 57,
   "outputs": []
  },
  {
   "metadata": {
    "ExecuteTime": {
     "end_time": "2024-05-31T16:41:01.753648Z",
     "start_time": "2024-05-31T16:41:01.744591Z"
    }
   },
   "cell_type": "code",
   "source": [
    "# The vectorstore to use to index the child chunks\n",
    "vectorstore = Chroma(\n",
    "    collection_name=\"hypo-questions\", embedding_function=embedding_function, persist_directory='./chroma_db_test',\n",
    ")\n",
    "# The storage layer for the parent documents\n",
    "store = InMemoryByteStore()\n",
    "id_key = \"doc_id\"\n",
    "# The retriever (empty to start)\n",
    "retriever = MultiVectorRetriever(\n",
    "    vectorstore=vectorstore,\n",
    "    byte_store=store,\n",
    "    id_key=id_key,\n",
    ")\n",
    "doc_ids = [str(uuid.uuid4()) for _ in docs]"
   ],
   "id": "b64b11d976b28637",
   "execution_count": 58,
   "outputs": []
  },
  {
   "metadata": {
    "ExecuteTime": {
     "end_time": "2024-05-31T16:41:09.905477Z",
     "start_time": "2024-05-31T16:41:03.095328Z"
    }
   },
   "cell_type": "code",
   "source": [
    "sub_docs = []\n",
    "\n",
    "for i, doc in enumerate(docs):\n",
    "    print(i)\n",
    "    _id = doc_ids[i]\n",
    "    _sub_docs = get_sub_docs(doc)\n",
    "    for _doc in _sub_docs:\n",
    "        _doc.metadata[id_key] = _id\n",
    "    sub_docs.extend(_sub_docs)"
   ],
   "id": "27cebc72bc49a548",
   "execution_count": 59,
   "outputs": []
  },
  {
   "metadata": {},
   "cell_type": "code",
   "execution_count": null,
   "source": [
    "retriever.vectorstore.add_documents(sub_docs)\n",
    "retriever.docstore.mset(list(zip(doc_ids, docs)))"
   ],
   "id": "30ef47e801a03663",
   "outputs": []
  }
 ],
 "metadata": {
  "kernelspec": {
   "display_name": "Python 3",
   "language": "python",
   "name": "python3"
  },
  "language_info": {
   "codemirror_mode": {
    "name": "ipython",
    "version": 2
   },
   "file_extension": ".py",
   "mimetype": "text/x-python",
   "name": "python",
   "nbconvert_exporter": "python",
   "pygments_lexer": "ipython2",
   "version": "2.7.6"
  }
 },
 "nbformat": 4,
 "nbformat_minor": 5
}
